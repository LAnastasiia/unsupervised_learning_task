{
 "cells": [
  {
   "cell_type": "code",
   "execution_count": 108,
   "metadata": {},
   "outputs": [],
   "source": [
    "import numpy as np\n",
    "import pandas as pd"
   ]
  },
  {
   "cell_type": "markdown",
   "metadata": {},
   "source": [
    "# Load and preprocess the data"
   ]
  },
  {
   "cell_type": "code",
   "execution_count": 109,
   "metadata": {
    "scrolled": false
   },
   "outputs": [],
   "source": [
    "from sklearn.preprocessing import LabelEncoder\n",
    "from sklearn.preprocessing import OneHotEncoder\n",
    "\n",
    "df = pd.read_csv('dataset.csv')"
   ]
  },
  {
   "cell_type": "markdown",
   "metadata": {},
   "source": [
    "Check for missing values. Fix or drop if it's in SystemCodeNumber. <br>\n",
    "(Our data set doesn't have any nulls, so that's just in case)"
   ]
  },
  {
   "cell_type": "code",
   "execution_count": 110,
   "metadata": {},
   "outputs": [],
   "source": [
    "df.dropna(subset=['SystemCodeNumber'])\n",
    "\n",
    "df[column].fillna(inplace=True, method='backfill')\n",
    "\n",
    "for column in ['Capacity', 'Occupancy']:\n",
    "    avg_value = df[column].mean()\n",
    "    df[column].fillna(avg_value, inplace=True)"
   ]
  },
  {
   "cell_type": "markdown",
   "metadata": {},
   "source": [
    "Redefine data from 'SystemCodeNumber' column as binary entry in type-columns -- so that it will be treated equally."
   ]
  },
  {
   "cell_type": "code",
   "execution_count": 111,
   "metadata": {},
   "outputs": [],
   "source": [
    "df = pd.get_dummies(df, columns=['SystemCodeNumber'])"
   ]
  },
  {
   "cell_type": "markdown",
   "metadata": {},
   "source": [
    "Split date into 'month', 'day' columns (ignore year - it's const in this data set); split time into h, m, s columns. "
   ]
  },
  {
   "cell_type": "code",
   "execution_count": 112,
   "metadata": {},
   "outputs": [
    {
     "name": "stdout",
     "output_type": "stream",
     "text": [
      "       Capacity  Occupancy  SystemCodeNumber_BHMBCCMKT01  \\\n",
      "0           577         61                             1   \n",
      "1           577         64                             1   \n",
      "2           577         80                             1   \n",
      "3           577        107                             1   \n",
      "4           577        150                             1   \n",
      "...         ...        ...                           ...   \n",
      "35712      1920       1517                             0   \n",
      "35713      1920       1487                             0   \n",
      "35714      1920       1432                             0   \n",
      "35715      1920       1321                             0   \n",
      "35716      1920       1180                             0   \n",
      "\n",
      "       SystemCodeNumber_BHMBCCPST01  SystemCodeNumber_BHMBCCSNH01  \\\n",
      "0                                 0                             0   \n",
      "1                                 0                             0   \n",
      "2                                 0                             0   \n",
      "3                                 0                             0   \n",
      "4                                 0                             0   \n",
      "...                             ...                           ...   \n",
      "35712                             0                             0   \n",
      "35713                             0                             0   \n",
      "35714                             0                             0   \n",
      "35715                             0                             0   \n",
      "35716                             0                             0   \n",
      "\n",
      "       SystemCodeNumber_BHMBCCTHL01  SystemCodeNumber_BHMBRCBRG01  \\\n",
      "0                                 0                             0   \n",
      "1                                 0                             0   \n",
      "2                                 0                             0   \n",
      "3                                 0                             0   \n",
      "4                                 0                             0   \n",
      "...                             ...                           ...   \n",
      "35712                             0                             0   \n",
      "35713                             0                             0   \n",
      "35714                             0                             0   \n",
      "35715                             0                             0   \n",
      "35716                             0                             0   \n",
      "\n",
      "       SystemCodeNumber_BHMBRCBRG02  SystemCodeNumber_BHMBRCBRG03  \\\n",
      "0                                 0                             0   \n",
      "1                                 0                             0   \n",
      "2                                 0                             0   \n",
      "3                                 0                             0   \n",
      "4                                 0                             0   \n",
      "...                             ...                           ...   \n",
      "35712                             0                             0   \n",
      "35713                             0                             0   \n",
      "35714                             0                             0   \n",
      "35715                             0                             0   \n",
      "35716                             0                             0   \n",
      "\n",
      "       SystemCodeNumber_BHMBRTARC01  ...  SystemCodeNumber_Others-CCCPS133  \\\n",
      "0                                 0  ...                                 0   \n",
      "1                                 0  ...                                 0   \n",
      "2                                 0  ...                                 0   \n",
      "3                                 0  ...                                 0   \n",
      "4                                 0  ...                                 0   \n",
      "...                             ...  ...                               ...   \n",
      "35712                             0  ...                                 0   \n",
      "35713                             0  ...                                 0   \n",
      "35714                             0  ...                                 0   \n",
      "35715                             0  ...                                 0   \n",
      "35716                             0  ...                                 0   \n",
      "\n",
      "       SystemCodeNumber_Others-CCCPS135a  SystemCodeNumber_Others-CCCPS202  \\\n",
      "0                                      0                                 0   \n",
      "1                                      0                                 0   \n",
      "2                                      0                                 0   \n",
      "3                                      0                                 0   \n",
      "4                                      0                                 0   \n",
      "...                                  ...                               ...   \n",
      "35712                                  0                                 0   \n",
      "35713                                  0                                 0   \n",
      "35714                                  0                                 0   \n",
      "35715                                  0                                 0   \n",
      "35716                                  0                                 0   \n",
      "\n",
      "       SystemCodeNumber_Others-CCCPS8  SystemCodeNumber_Others-CCCPS98  \\\n",
      "0                                   0                                0   \n",
      "1                                   0                                0   \n",
      "2                                   0                                0   \n",
      "3                                   0                                0   \n",
      "4                                   0                                0   \n",
      "...                               ...                              ...   \n",
      "35712                               0                                0   \n",
      "35713                               0                                0   \n",
      "35714                               0                                0   \n",
      "35715                               0                                0   \n",
      "35716                               0                                0   \n",
      "\n",
      "       SystemCodeNumber_Shopping  LastUpdated_Month  LastUpdated_Day  \\\n",
      "0                              0                 10                4   \n",
      "1                              0                 10                4   \n",
      "2                              0                 10                4   \n",
      "3                              0                 10                4   \n",
      "4                              0                 10                4   \n",
      "...                          ...                ...              ...   \n",
      "35712                          1                 12               19   \n",
      "35713                          1                 12               19   \n",
      "35714                          1                 12               19   \n",
      "35715                          1                 12               19   \n",
      "35716                          1                 12               19   \n",
      "\n",
      "       LastUpdated_Hour  LastUpdated_Minute  \n",
      "0                     7                  59  \n",
      "1                     8                  25  \n",
      "2                     8                  59  \n",
      "3                     9                  32  \n",
      "4                     9                  59  \n",
      "...                 ...                 ...  \n",
      "35712                14                  30  \n",
      "35713                15                   3  \n",
      "35714                15                  29  \n",
      "35715                16                   3  \n",
      "35716                16                  30  \n",
      "\n",
      "[35717 rows x 36 columns]\n"
     ]
    }
   ],
   "source": [
    "from datetime import datetime\n",
    "\n",
    "df['LastUpdated'] = pd.to_datetime(df['LastUpdated'], infer_datetime_format=True)\n",
    "\n",
    "df['LastUpdated_Month'] = [int(dt.month) for dt in df['LastUpdated']]\n",
    "df['LastUpdated_Day'] = [int(dt.day) for dt in df['LastUpdated']]\n",
    "\n",
    "df['LastUpdated_Hour'] = [int(dt.hour) for dt in df['LastUpdated']]\n",
    "df['LastUpdated_Minute'] = [int(dt.minute) for dt in df['LastUpdated']]\n",
    "\n",
    "df = df.drop([\"LastUpdated\"], axis=1)\n",
    "\n",
    "print(df)"
   ]
  },
  {
   "cell_type": "code",
   "execution_count": null,
   "metadata": {},
   "outputs": [],
   "source": []
  },
  {
   "cell_type": "code",
   "execution_count": 113,
   "metadata": {},
   "outputs": [],
   "source": [
    "# label_enc = LabelEncoder()\n",
    "# df[\"SystemCodeNumber\"] = label_enc.fit_transform(df[\"SystemCodeNumber\"].values)\n",
    "\n",
    "# y = df[\"SystemCodeNumber\"]\n",
    "# onehotencoder = OneHotEncoder(categories='SystemCodeNumber')\n",
    "# print(onehotencoder.fit_transform(y.reshape(-1,1)))"
   ]
  },
  {
   "cell_type": "code",
   "execution_count": null,
   "metadata": {},
   "outputs": [],
   "source": [
    "# https://towardsdatascience.com/data-cleaning-with-python-and-pandas-detecting-missing-values-3e9c6ebcf78b\n",
    "# https://towardsdatascience.com/encoding-categorical-features-21a2651a065c"
   ]
  },
  {
   "cell_type": "code",
   "execution_count": null,
   "metadata": {},
   "outputs": [],
   "source": []
  },
  {
   "cell_type": "code",
   "execution_count": null,
   "metadata": {},
   "outputs": [],
   "source": []
  },
  {
   "cell_type": "code",
   "execution_count": 114,
   "metadata": {},
   "outputs": [],
   "source": [
    "from sklearn.model_selection import train_test_split"
   ]
  }
 ],
 "metadata": {
  "kernelspec": {
   "display_name": "Python 3",
   "language": "python",
   "name": "python3"
  },
  "language_info": {
   "codemirror_mode": {
    "name": "ipython",
    "version": 3
   },
   "file_extension": ".py",
   "mimetype": "text/x-python",
   "name": "python",
   "nbconvert_exporter": "python",
   "pygments_lexer": "ipython3",
   "version": "3.6.8"
  }
 },
 "nbformat": 4,
 "nbformat_minor": 2
}
